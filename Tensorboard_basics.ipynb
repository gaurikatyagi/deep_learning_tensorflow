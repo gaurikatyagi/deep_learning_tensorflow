{
 "cells": [
  {
   "cell_type": "markdown",
   "metadata": {},
   "source": [
    "Tensorboard is a debugging tool used to understand and debug tensorflow models. It can show data flow and graphs, accuracy and loss of model as it progresses"
   ]
  },
  {
   "cell_type": "code",
   "execution_count": 2,
   "metadata": {
    "collapsed": false
   },
   "outputs": [
    {
     "name": "stdout",
     "output_type": "stream",
     "text": [
      "Extracting MNIST_data/train-images-idx3-ubyte.gz\n",
      "Extracting MNIST_data/train-labels-idx1-ubyte.gz\n",
      "Extracting MNIST_data/t10k-images-idx3-ubyte.gz\n",
      "Extracting MNIST_data/t10k-labels-idx1-ubyte.gz\n"
     ]
    }
   ],
   "source": [
    "import tensorflow as tf\n",
    "\n",
    "##Import MNIST\n",
    "from tensorflow.examples.tutorials.mnist import input_data\n",
    "mnist = input_data.read_data_sets(\"MNIST_data/\", one_hot = True)"
   ]
  },
  {
   "cell_type": "code",
   "execution_count": 4,
   "metadata": {
    "collapsed": true
   },
   "outputs": [],
   "source": [
    "##Model Parameters\n",
    "learn_rate = 0.001\n",
    "training_epochs = 40\n",
    "bath_size = 100\n",
    "log_paths = \"/tmp/tensorflow_logs\""
   ]
  },
  {
   "cell_type": "code",
   "execution_count": 5,
   "metadata": {
    "collapsed": true
   },
   "outputs": [],
   "source": [
    "##Graph Input\n",
    "\n",
    "##mnist image of the shape = 28*28 = 784\n",
    "x = tf.placeholder(tf.float32, [None, 784], name = \"ipdata\")\n",
    "##classes are the 10 labels\n",
    "y = tf.placeholder(tf.float32, [None, 10], name = \"iplabel\")\n",
    "\n",
    "##model weights and variables\n",
    "w = tf.Variable(tf.zeros([784, 10]), name = \"weights\")\n",
    "b = tf.Variable(tf.zeros([10]), name = \"biases\")"
   ]
  },
  {
   "cell_type": "code",
   "execution_count": 7,
   "metadata": {
    "collapsed": false
   },
   "outputs": [],
   "source": [
    "##construct model with scopes for easier implementation of tensorboard\n",
    "\n",
    "with tf.name_scope(\"model\"):\n",
    "    pred = tf.nn.softmax(tf.matmul(x, w) + b)\n",
    "\n",
    "with tf.name_scope(\"loss\"):\n",
    "    loss = tf.reduce_mean(-tf.reduce_sum(y*tf.log(pred), reduction_indices = 1))\n",
    "    \n",
    "with tf.name_scope(\"gradientdescent\"):\n",
    "    optimizer = tf.train.GradientDescentOptimizer(learn_rate).minimize(loss)\n",
    "    \n",
    "with tf.name_scope(\"accuracy\"):\n",
    "    accuracy = tf.equal(tf.argmax(pred, 1), tf.argmax(y, 1))\n",
    "    accuracy = tf.reduce_mean(tf.cast(accuracy, tf.float32))"
   ]
  },
  {
   "cell_type": "code",
   "execution_count": null,
   "metadata": {
    "collapsed": true
   },
   "outputs": [],
   "source": [
    "##Intialization of all variables\n",
    "init = tf.global_variables_initializer()"
   ]
  }
 ],
 "metadata": {
  "kernelspec": {
   "display_name": "Python 2",
   "language": "python",
   "name": "python2"
  },
  "language_info": {
   "codemirror_mode": {
    "name": "ipython",
    "version": 2
   },
   "file_extension": ".py",
   "mimetype": "text/x-python",
   "name": "python",
   "nbconvert_exporter": "python",
   "pygments_lexer": "ipython2",
   "version": "2.7.10"
  }
 },
 "nbformat": 4,
 "nbformat_minor": 2
}
